{
 "cells": [
  {
   "cell_type": "code",
   "execution_count": 14,
   "metadata": {},
   "outputs": [],
   "source": [
    "import numpy as np\n",
    "\n",
    "# Function to calculate sin(x)\n",
    "def sin_function(x):\n",
    "    \"\"\"\n",
    "    Returns the sine of the input x in radians.\n",
    "    \n",
    "    Parameters:\n",
    "    x (float or np.ndarray): Input value(s) in radians\n",
    "    \n",
    "    Returns:\n",
    "    float or np.ndarray: Sine of the input value(s)\n",
    "    \"\"\"\n",
    "    return np.sin(x)"
   ]
  },
  {
   "cell_type": "code",
   "execution_count": 15,
   "metadata": {},
   "outputs": [],
   "source": [
    "## Function: `cos_function(x)`\n",
    "## The `cos_function(x)` calculates and returns the cosine of the given input `x` in radians using `numpy`'s `cos` function."
   ]
  },
  {
   "cell_type": "code",
   "execution_count": 16,
   "metadata": {},
   "outputs": [],
   "source": [
    "# Function to calculate cos(x)\n",
    "def cos_function(x):\n",
    "    \"\"\"\n",
    "    Returns the cosine of the input x in radians.\n",
    "    \n",
    "    Parameters:\n",
    "    x (float or np.ndarray): Input value(s) in radians\n",
    "    \n",
    "    Returns:\n",
    "    float or np.ndarray: Cosine of the input value(s)\n",
    "    \"\"\"\n",
    "    return np.cos(x)"
   ]
  },
  {
   "cell_type": "code",
   "execution_count": 17,
   "metadata": {},
   "outputs": [],
   "source": [
    "## Tabulating `sin(x)` and `cos(x)` Over a Range\n",
    "## In this cell, we create a range of `x` values between 0 and 2 (with 1000 evenly spaced entries) and calculate `sin(x)` and `cos(x)` using the previously defined functions."
   ]
  },
  {
   "cell_type": "code",
   "execution_count": 18,
   "metadata": {},
   "outputs": [],
   "source": [
    "# Generate 1000 values of x between 0 and 2\n",
    "x_values = np.linspace(0, 2, 1000)\n",
    "\n",
    "# Compute sin(x) and cos(x) using the defined functions\n",
    "sin_values = sin_function(x_values)\n",
    "cos_values = cos_function(x_values)"
   ]
  },
  {
   "cell_type": "code",
   "execution_count": 19,
   "metadata": {},
   "outputs": [],
   "source": [
    "## Printing the First 10 Values of `x`, `sin(x)`, and `cos(x)`\n",
    "## We use a for loop to print the first 10 values of `x`, `sin(x)`, and `cos(x)` in a table with formatted columns for better readability."
   ]
  },
  {
   "cell_type": "code",
   "execution_count": 20,
   "metadata": {},
   "outputs": [
    {
     "name": "stdout",
     "output_type": "stream",
     "text": [
      "         x     sin(x)     cos(x)\n",
      "------------------------------\n",
      "  0.000000   0.000000   1.000000\n",
      "  0.002002   0.002002   0.999998\n",
      "  0.004004   0.004004   0.999992\n",
      "  0.006006   0.006006   0.999982\n",
      "  0.008008   0.008008   0.999968\n",
      "  0.010010   0.010010   0.999950\n",
      "  0.012012   0.012012   0.999928\n",
      "  0.014014   0.014014   0.999902\n",
      "  0.016016   0.016015   0.999872\n",
      "  0.018018   0.018017   0.999838\n"
     ]
    }
   ],
   "source": [
    "# Print table header\n",
    "print(f\"{'x':>10} {'sin(x)':>10} {'cos(x)':>10}\")\n",
    "print('-' * 30)\n",
    "\n",
    "# Use a for loop to print the first 10 values\n",
    "for i in range(10):\n",
    "    print(f\"{x_values[i]:10.6f} {sin_values[i]:10.6f} {cos_values[i]:10.6f}\")"
   ]
  }
 ],
 "metadata": {
  "kernelspec": {
   "display_name": "Python 3",
   "language": "python",
   "name": "python3"
  },
  "language_info": {
   "codemirror_mode": {
    "name": "ipython",
    "version": 3
   },
   "file_extension": ".py",
   "mimetype": "text/x-python",
   "name": "python",
   "nbconvert_exporter": "python",
   "pygments_lexer": "ipython3",
   "version": "3.12.6"
  }
 },
 "nbformat": 4,
 "nbformat_minor": 2
}
